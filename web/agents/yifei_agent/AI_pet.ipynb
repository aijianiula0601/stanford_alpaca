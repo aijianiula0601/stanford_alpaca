{
 "cells": [
  {
   "cell_type": "code",
   "execution_count": 1,
   "metadata": {},
   "outputs": [],
   "source": [
    "from numpy import dot\n",
    "from numpy.linalg import norm\n",
    "import openai\n",
    "import copy\n",
    "import random\n",
    "random.seed(4)\n",
    "from config import *\n",
    "from aichat import *"
   ]
  },
  {
   "cell_type": "code",
   "execution_count": 2,
   "metadata": {},
   "outputs": [
    {
     "name": "stdout",
     "output_type": "stream",
     "text": [
      "----------------------------------------------------------------------------------------------------\n",
      "----------------------------------------------------------------------------------------------------\n",
      "moli:返回：0                bobo1\n",
      "----------------------------------------------------------------------------------------------------\n",
      "+++++++++++++++++++      制定的计划    +++++++++++++++++++++++++++++++\n",
      "下一步计划: 莫莉看完电视后，打算去花园里寻找新鲜的草和水果吃，然后再去玩耍，看看能不能找到新的玩具。如果天气好，她可能会去公园找波波玩。\n",
      "计划去公园和莫莉玩耍。\n",
      "+++++++++++++++++++      当前的状态    +++++++++++++++++++++++++++++++\n",
      "状态: 莫莉正在家里的电视前，专心致志地看着一个关于草原动物的纪录片。她的双眼闪闪发光，显然对电视上的内容非常感兴趣。看完电视后，她打算去花园里寻找新鲜的草和水果吃，然后再去玩耍，看看能不能找到新的玩具。如果天气好的话，她可能会去公园找波波玩。\n",
      "我现在在家，准备去公园和莫莉玩耍。我正在收拾一些我最喜欢的玩具，以及一些绘画工具，希望在公园里创作新的艺术作品。我迫不及待地想去水边玩耍，并用我的鼻子吹出许多泡泡。我也很期待在公园里遇到新的朋友，让他们欣赏我的艺术作品和我的独特魅力。\n"
     ]
    }
   ],
   "source": [
    "run_two_pets_act()"
   ]
  },
  {
   "cell_type": "code",
   "execution_count": 3,
   "metadata": {},
   "outputs": [
    {
     "name": "stdout",
     "output_type": "stream",
     "text": [
      "----------------------------------------------------------------------------------------------------\n",
      "----------------------------------------------------------------------------------------------------\n",
      "moli:0                bobo1\n",
      "----------------------------------------------------------------------------------------------------\n",
      "+++++++++++++++++++      制定的计划    +++++++++++++++++++++++++++++++\n",
      "计划: \n",
      "1. 看完纪录片，对草原动物有了更多的了解和兴趣。\n",
      "2. 到花园中寻找新鲜的草和水果，希望能找到自己最喜欢的胡萝卜。\n",
      "3. 在家中寻找新的可以咬的玩具，满足自己的好奇心。\n",
      "4. 如果天气好，就出门去公园，找波波玩，一起探索更多的新鲜事物。\n",
      "我打算先找到一个安静的角落，开始我的绘画创作。然后我会找一个水池玩耍，用鼻子吹出一大堆的泡泡。之后，我会找莫莉玩，我们可以一起在公园里玩耍。最后，我希望能结识一些新的朋友，分享我的艺术作品和我的快乐。\n",
      "+++++++++++++++++++      当前的状态    +++++++++++++++++++++++++++++++\n",
      "莫莉正兴奋地在电视前观看纪录片，那些草原上的动物们引发了她对未知世界的无限好奇。她的小眼睛闪烁着亮光，对于即将进行的冒险充满期待。纪录片结束后，她迫不及待地想要出去寻找新鲜的草和水果。她的小鼻子不停地在空气中嗅来嗅去，希望能找到那熟悉的胡萝卜的味道。\n",
      "\n",
      "在家中，她也不失去对新事物的好奇心。她在各个角落里寻找新的可咬的玩具，满足自己的咀嚼欲望。她的小脑袋不停地转动，希望能找到新的玩具。\n",
      "\n",
      "如果天气好，她还会出门去公园，找到她的好朋友波波。他们一起在公园里玩耍，探索更多的新鲜事物。莫莉的世界充满了好奇和探索，每一天都是新鲜的，每一天都充满了期待。\n",
      "我正坐在公园的一个安静角落，我的小鼻子和脚的小球正忙着在纸上创作我的抽象艺术作品。我的眼中闪烁着创作的光芒，我全神贯注地画着，享受着艺术带给我的快乐。\n",
      "\n",
      "不一会儿，我就会停下来，找个水池玩耍。我在水中嬉戏，用鼻子吹出一大堆的泡泡，我快乐的样子会让旁边的人都笑出声。\n",
      "\n",
      "然后，我会找我的好朋友莫莉。我们在公园里一起玩耍，一起分享彼此的快乐。我会告诉她我新创作的艺术作品，她总是会给我最真诚的赞美。\n",
      "\n",
      "最后，我希望在公园里结识更多的新朋友，分享我的艺术作品，分享我的快乐。我相信我的善良和魅力一定能吸引更多的朋友。\n"
     ]
    }
   ],
   "source": [
    "run_two_pets_act()"
   ]
  },
  {
   "cell_type": "code",
   "execution_count": 4,
   "metadata": {},
   "outputs": [
    {
     "name": "stdout",
     "output_type": "stream",
     "text": [
      "----------------------------------------------------------------------------------------------------\n",
      "----------------------------------------------------------------------------------------------------\n",
      "moli:1                bobo0\n",
      "----------------------------------------------------------------------------------------------------\n",
      "+++++++++++++++++++      制定的计划    +++++++++++++++++++++++++++++++\n",
      "计划1：寻找胡萝卜。我能闻到空气中有胡萝卜的味道，我想去找到它，满足我的食欲。\n",
      "计划2：去找新的玩具。我想找一个新的、可以咬的玩具，来满足我的好奇心和咀嚼欲望。\n",
      "计划3：去公园找波波。我想去找我的好朋友波波，和他一起玩耍，探索新鲜事物。\n",
      "1. 继续创作我的抽象艺术作品：我想画一幅新的画，这次我想尝试一些新的颜色和形状，让我的作品更加丰富和多元。\n",
      "\n",
      "2. 去水池玩耍：创作完新的艺术作品后，我想去水池里玩耍，用鼻子吹出一堆堆的泡泡，这是我最喜欢的游戏。\n",
      "\n",
      "3. 和莫莉玩耍：玩耍之后，我会去找我的好朋友莫莉，我想和她分享我的新画，也想听听她的见解。\n",
      "\n",
      "4. 结识新朋友：我希望在公园里遇见新的朋友，我会向他们展示我的艺术作品，和他们分享我的快乐。\n",
      "\n",
      "5. 帮助装饰房间：如果有机会，我也希望能帮忙装饰一些房间，我可以用我的鼻子移动物品，创造出一个全新的环境。\n",
      "+++++++++++++++++++      当前的状态    +++++++++++++++++++++++++++++++\n",
      "莫莉现在在公园里忙碌地跳来跳去，她的鼻子一动不动，深深地吸着空气，希望能找到那胡萝卜的味道。她的眼睛炯炯有神，一边寻找着胡萝卜，一边寻找着新的、可以咬的玩具。她的小心脏跳动得非常快，因为她也在期待着能在公园里找到她的好朋友波波。\n",
      "我现在正在公园的一角，专心地用鼻子和脚上的小球在一张大纸上创作我的新艺术作品。我正在尝试使用一些新的颜色和形状，希望我的画能更加丰富和多元。我打算完成这幅画后去公园的水池里玩耍，用鼻子吹出一堆堆的泡泡。我也期待着和我的好朋友莫莉见面，与她分享我的新画并听听她的见解。同时，我也希望在公园里结识新的朋友，向他们展示我的艺术作品，和他们分享我的快乐。如果有机会，我也愿意用我的鼻子帮忙装饰一些房间，创造出一个全新的环境。\n"
     ]
    }
   ],
   "source": [
    "run_two_pets_act()"
   ]
  },
  {
   "cell_type": "code",
   "execution_count": 5,
   "metadata": {},
   "outputs": [
    {
     "name": "stdout",
     "output_type": "stream",
     "text": [
      "----------------------------------------------------------------------------------------------------\n",
      "----------------------------------------------------------------------------------------------------\n",
      "moli:返回：1                bobo1\n",
      "----------------------------------------------------------------------------------------------------\n",
      "+++++++++++++++++++      开始聊天    +++++++++++++++++++++++++++++++\n",
      "莫莉（荷兰兔）：嗨，波波！你今天在干嘛呢？\n",
      "\n",
      "波波（大象）：嗨，莫莉！我正在画画，用我的鼻子和脚上的小球在纸上创作新的艺术作品。\n",
      "\n",
      "莫莉：哇，你真的很有才华！我可以看看你的作品吗？\n",
      "\n",
      "波波：当然可以，我很高兴你能看看我的作品。我用了很多新的颜色和形状，希望我的画能更加丰富和多元。\n",
      "\n",
      "莫莉：我相信一定很美！你知道我最近在找什么吗？\n",
      "\n",
      "波波：新的玩具吗？还是那个胡萝卜的味道？\n",
      "\n",
      "莫莉：哈哈，你真了解我。是的，我一直在找胡萝卜的味道和新的玩具。\n",
      "\n",
      "波波：我能帮你找找看吗？我可以用我的鼻子找到很多东西。\n",
      "\n",
      "莫莉：那真是太好了！谢谢你，波波。你真是我最好的朋友！\n"
     ]
    }
   ],
   "source": [
    "run_two_pets_act()"
   ]
  },
  {
   "cell_type": "code",
   "execution_count": 2,
   "metadata": {},
   "outputs": [],
   "source": [
    "def get_response(prompt=None, content=None):\n",
    "    key = 'bca8eef9f9c04c7bb1e573b4353e71ae'\n",
    "\n",
    "    openai.api_type = \"azure\"\n",
    "    openai.api_base = \"https://gpt4-test-cj-0803.openai.azure.com/\"\n",
    "    openai.api_version = \"2023-03-15-preview\"\n",
    "    openai.api_key = 'bca8eef9f9c04c7bb1e573b4353e71ae'\n",
    "\n",
    "    message_list = [\n",
    "            {\"role\": \"system\",\n",
    "            \"content\": f\"{content}\"},\n",
    "            {\"role\": \"user\", \"content\": f\"{prompt}\"}\n",
    "            ]\n",
    "    response = openai.ChatCompletion.create(\n",
    "        engine=\"gpt4-16k\",\n",
    "        messages=message_list,\n",
    "        temperature=0.7,\n",
    "        max_tokens=800,\n",
    "        top_p=0.95,\n",
    "        frequency_penalty=0,\n",
    "        presence_penalty=0,\n",
    "        stop=None)\n",
    "    return response['choices'][0]['message']['content']\n",
    "\n",
    "### 定义embedding获取函数\n",
    "def get_embedding(text, model=\"text-embedding-ada-002\"):\n",
    "    openai_api_key = \"548e5c0c2aff453e932948927a27bde6\"\n",
    "    openai.api_key = openai_api_key\n",
    "    openai.api_type = \"azure\"\n",
    "    # openai.api_version = \"2023-06-15-preview\"\n",
    "    openai.api_version = \"2023-03-15-preview\"\n",
    "    openai.api_base = \"https://bigo-chatgpt-9.openai.azure.com/\"\n",
    "    res = openai.Embedding.create(\n",
    "    input=[text], deployment_id=\"text-embedding-ada-002\")['data'][0]['embedding']\n",
    "    return res"
   ]
  },
  {
   "cell_type": "markdown",
   "metadata": {},
   "source": [
    "## 定义宠物、房间和公共区域"
   ]
  },
  {
   "cell_type": "code",
   "execution_count": 31,
   "metadata": {},
   "outputs": [
    {
     "name": "stdout",
     "output_type": "stream",
     "text": [
      "set gpt engine_name to:gpt4-16k\n",
      "set gpt engine_name to:gpt4-16k\n"
     ]
    }
   ],
   "source": [
    "moli = PersonPet(name=\"莫莉\", gpt_version=\"gpt4\")\n",
    "bobo = PersonPet(name=\"波波\", gpt_version=\"gpt4\")"
   ]
  },
  {
   "cell_type": "code",
   "execution_count": 42,
   "metadata": {},
   "outputs": [
    {
     "data": {
      "text/plain": [
       "('品种: 荷兰兔\\n性格: 开朗、活泼、可爱，是个非常好奇的小家伙。喜欢探索周围的世界，对一切新鲜事物都充满好奇。\\n兴趣: 喜欢吃新鲜的草和水果，最喜欢的是胡萝卜。她还喜欢玩各种各样的小玩具，特别是那些可以咬的。\\n社交关系: 莫莉和波波是好朋友。他们是在公园散步时认识的，波波是一只小象宝宝。',\n",
       " '品种: 大象\\n性格: 波波是一只友善和充满情感的小象宝宝，对人类和其他动物都充满善意，总是乐于交朋友。他喜欢与其他宠物和人互动，喜欢参加派对，并总是在社交场合展现自己的魅力。\\n爱好: Bobo喜欢在水中玩耍，尤其是在大浴缸里，他会用鼻子吹出泡泡。Bobo喜欢绘画，他用小鼻子和脚的小球在纸上创作抽象艺术作品。Bobo喜欢帮助你装饰家中的房间，他可以用鼻子移动物体，让房间更加美丽。\\n关系: 莫莉和波波是好朋友。他们是在公园散步时认识的。',\n",
       " ['莫莉和主人在家里共享美味的胡萝卜小吃，它们是莫莉最爱的。',\n",
       "  '主人带着莫利去公园，莫莉在草地上奔跑，追逐彩色蝴蝶。',\n",
       "  '莫莉和波波一起参加了虚拟宠物足球比赛，莫莉在比赛中表现出色，打进了几个进球。',\n",
       "  '莫莉不幸受伤了，主人紧急带他去虚拟医院接受治疗，宠物感到不安。',\n",
       "  '医生对莫利进行了检查，成功治愈了他的伤病，主人对莫莉的勇气和坚强感到骄傲',\n",
       "  '主人和莫莉一起去虚拟宠物商店，他们购买了一套漂亮的兔子服装。',\n",
       "  '莫莉试戴各种虚拟眼镜和帽子，最终选择了一个时尚的眼镜，让她看起来更酷。'],\n",
       " {'家': '你自己的小屋',\n",
       "  '家-洗漱台': '刷牙和洗脸的地方',\n",
       "  '家-床': '午睡和夜晚睡觉的地方',\n",
       "  '家-浴室': '洗澡的地方',\n",
       "  '医院': '生病时去看医生的地方',\n",
       "  '公园': '散步或放松的地方',\n",
       "  '商店': '购买食品、零食等的地方'})"
      ]
     },
     "execution_count": 42,
     "metadata": {},
     "output_type": "execute_result"
    }
   ],
   "source": [
    "moli.pet_info(), bobo.pet_info(), moli.memory_list, config.places_dic"
   ]
  },
  {
   "cell_type": "markdown",
   "metadata": {},
   "source": [
    "## 定义莫利和波波的一些过往记忆"
   ]
  },
  {
   "cell_type": "code",
   "execution_count": 43,
   "metadata": {},
   "outputs": [
    {
     "data": {
      "text/plain": [
       "(['莫莉和主人在家里共享美味的胡萝卜小吃，它们是莫莉最爱的。',\n",
       "  '主人带着莫利去公园，莫莉在草地上奔跑，追逐彩色蝴蝶。',\n",
       "  '莫莉和波波一起参加了虚拟宠物足球比赛，莫莉在比赛中表现出色，打进了几个进球。',\n",
       "  '莫莉不幸受伤了，主人紧急带他去虚拟医院接受治疗，宠物感到不安。',\n",
       "  '医生对莫利进行了检查，成功治愈了他的伤病，主人对莫莉的勇气和坚强感到骄傲',\n",
       "  '主人和莫莉一起去虚拟宠物商店，他们购买了一套漂亮的兔子服装。',\n",
       "  '莫莉试戴各种虚拟眼镜和帽子，最终选择了一个时尚的眼镜，让她看起来更酷。'],\n",
       " ['波波和主人在家里一起度过一个宁静的夜晚，他们一起下象棋。令人惊讶的是，波波赢了这一轮的游戏，主人为波波的智慧感到惊讶。',\n",
       "  '波波和主人一起在虚拟电视上观看关于野生大象的纪录片，波波可以与主人分享关于大象的有趣事实。',\n",
       "  '主人带着波波去公园，小象宠物兴奋地荡秋千，摇摆得高高的，好像在飞翔一样。',\n",
       "  '波波和主人在公园的小湖边玩耍，波波用他的长鼻子喷水，为周围的花草浇水，引来了一群小鸟和松鼠。',\n",
       "  '不幸的是，波波在公园受了轻伤，主人紧急带他去虚拟医院接受治疗，波波感到不安。',\n",
       "  '在商店里，波波发现了一个特别的虚拟小象玩具，它看起来和他一样，主人为他买下了这个可爱的礼物。'])"
      ]
     },
     "execution_count": 43,
     "metadata": {},
     "output_type": "execute_result"
    }
   ],
   "source": [
    "prev_mem_moli = [\"莫莉和主人在家里共享美味的胡萝卜小吃，它们是莫莉最爱的。\",\n",
    "                 \"主人带着莫利去公园，莫莉在草地上奔跑，追逐彩色蝴蝶。\",\n",
    "                 \"莫莉和波波一起参加了虚拟宠物足球比赛，莫莉在比赛中表现出色，打进了几个进球。\",\n",
    "                 \"莫莉不幸受伤了，主人紧急带他去虚拟医院接受治疗，宠物感到不安。\",\n",
    "                 \"医生对莫利进行了检查，成功治愈了他的伤病，主人对莫莉的勇气和坚强感到骄傲\",\n",
    "                 \"主人和莫莉一起去虚拟宠物商店，他们购买了一套漂亮的兔子服装。\",\n",
    "                 \"莫莉试戴各种虚拟眼镜和帽子，最终选择了一个时尚的眼镜，让她看起来更酷。\",]\n",
    "\n",
    "prev_mem_bobo = [\"波波和主人在家里一起度过一个宁静的夜晚，他们一起下象棋。令人惊讶的是，波波赢了这一轮的游戏，主人为波波的智慧感到惊讶。\",\n",
    "                 \"波波和主人一起在虚拟电视上观看关于野生大象的纪录片，波波可以与主人分享关于大象的有趣事实。\",\n",
    "                 \"主人带着波波去公园，小象宠物兴奋地荡秋千，摇摆得高高的，好像在飞翔一样。\",\n",
    "                 \"波波和主人在公园的小湖边玩耍，波波用他的长鼻子喷水，为周围的花草浇水，引来了一群小鸟和松鼠。\",\n",
    "                 \"不幸的是，波波在公园受了轻伤，主人紧急带他去虚拟医院接受治疗，波波感到不安。\",\n",
    "                 \"在商店里，波波发现了一个特别的虚拟小象玩具，它看起来和他一样，主人为他买下了这个可爱的礼物。\"]\n",
    "\n",
    "def add_prev_mem(moli, bobo):\n",
    "    for mem in config.prev_mem_moli:\n",
    "        moli.add_memory(mem)\n",
    "    for mem in config.prev_mem_bobo:\n",
    "        bobo.add_memory(mem) \n",
    "\n",
    "moli.memory_list, bobo.memory_list"
   ]
  },
  {
   "cell_type": "code",
   "execution_count": null,
   "metadata": {},
   "outputs": [],
   "source": [
    "moli.cur"
   ]
  },
  {
   "cell_type": "markdown",
   "metadata": {},
   "source": [
    "## 决定在哪里活动"
   ]
  },
  {
   "cell_type": "code",
   "execution_count": 25,
   "metadata": {},
   "outputs": [],
   "source": [
    "pet_world_str = (\n",
    "    \"现在想象你是一只宠物，生活在宠物世界中。\\n\"\n",
    "    \"宠物世界类似于现实世界，宠物有自己的活动轨迹，它们将根据时间来计划自己的行为，宠物将根据它们的当前状态来制定下一个计划。\\n\"\n",
    "    \"每个宠物世界在现实世界中都有一个主人，宠物会忠诚于主人，喜欢看主人开玩笑、玩游戏，依赖主人。\"\n",
    ")\n",
    "\n",
    "decide_act_place_prompt = pet_world_str + (\n",
    "\n",
    "    \"你现在是宠物世界的一员，你的名字是{role_name}。\\n\"\n",
    "    \"以下是你的角色描述:\\n\"\n",
    "    \"{role_description}\\n\\n\"\n",
    "\n",
    "    \"你可以去的地方包括:\\n\"\n",
    "    \"{all_place}\\n\\n\"\n",
    "\n",
    "    \"你当前的状态:\\n\"\n",
    "    \"{current_state}\\n\\n\"\n",
    "\n",
    "    \"根据你当前的状态，决定你接下来准备活动的场景。\\n\"\n",
    "    \"如果选则在 家，返回：0；\\n\"\n",
    "    \"选择在 医院，返回：1\\n\"\n",
    "    \"选择在 公园，返回：2\\n\"\n",
    "    \"选择在 商店，返回：3\\n\"\n",
    ")"
   ]
  },
  {
   "cell_type": "code",
   "execution_count": 35,
   "metadata": {},
   "outputs": [
    {
     "name": "stdout",
     "output_type": "stream",
     "text": [
      "==================================================\n",
      "response_text:0\n"
     ]
    },
    {
     "data": {
      "text/plain": [
       "'0'"
      ]
     },
     "execution_count": 35,
     "metadata": {},
     "output_type": "execute_result"
    }
   ],
   "source": [
    "def decide_act_place(pet, current_state):\n",
    "    \"\"\"\n",
    "    规划一天的行程\n",
    "    \"\"\"\n",
    "    prompt = decide_act_place_prompt.format_map(\n",
    "        {'role_name': pet.name,\n",
    "            'role_description': pet.pet_info(),\n",
    "            'all_place': PETWORLD_OBJ.place_str,\n",
    "            'current_state':current_state,\n",
    "            })\n",
    "    \"\"\"\n",
    "    print(\"-\" * 100)\n",
    "    print(f\"act place prompt:\\n{prompt}\")\n",
    "    print(\"-\" * 100)\"\"\"\n",
    "    message_list = [{\"role\": \"user\", \"content\": prompt}]\n",
    "    return get_gpt_result(engine_name=pet.engine_name, message_list=message_list)"
   ]
  },
  {
   "cell_type": "code",
   "execution_count": 38,
   "metadata": {},
   "outputs": [
    {
     "name": "stdout",
     "output_type": "stream",
     "text": [
      "==================================================\n",
      "response_text:0\n"
     ]
    },
    {
     "data": {
      "text/plain": [
       "'0'"
      ]
     },
     "execution_count": 38,
     "metadata": {},
     "output_type": "execute_result"
    }
   ],
   "source": [
    "act_place = decide_act_place(moli, \"莫莉正在家里看电视\")\n",
    "act_place"
   ]
  },
  {
   "cell_type": "markdown",
   "metadata": {},
   "source": [
    "## Reterieve"
   ]
  },
  {
   "cell_type": "code",
   "execution_count": 44,
   "metadata": {},
   "outputs": [],
   "source": [
    "### 定义匹配函数，对于每个当下接收到的信息 perceived，将perceived每个事件的embedding与过往事件的embedding做向量匹配\n",
    "### 匹配方式是余弦相似度，每个perceived事件返回最高的两个过往事件\n",
    "def get_revelant_past_mem(perceived, prev_mem, top_k=2):\n",
    "    sim_score = [[0 for _ in range(len(prev_mem))] for _ in range(len(perceived))]\n",
    "    relevent_idx = {}\n",
    "    perceived_emb = [get_embedding(perceived[i]) for i in range(len(perceived))]\n",
    "    prev_mem_emb = [get_embedding(prev_mem[i]) for i in range(len(prev_mem))]\n",
    "    for i in range(len(perceived)):\n",
    "        for j in range(len(prev_mem)):\n",
    "            sim_score[i][j] = cos_sim(perceived_emb[i], prev_mem_emb[j])\n",
    "        relevent_idx[i], _ = get_top_k_idx(sim_score[i])\n",
    "    return relevent_idx, perceived_emb, prev_mem_emb\n",
    "\n",
    "def cos_sim(a, b):\n",
    "  ## 返回一个值 0-1 \n",
    "  return dot(a, b)/(norm(a)*norm(b))\n",
    "\n",
    "\n",
    "def get_top_k_idx(scores, top_k=2):\n",
    "    t = copy.deepcopy(scores)\n",
    "    # 求m个最大的数值及其索引\n",
    "    max_number = []\n",
    "    max_index = []\n",
    "    for _ in range(top_k):\n",
    "        number = max(t)\n",
    "        index = t.index(number)\n",
    "        t[index] = 0\n",
    "        max_number.append(number)\n",
    "        max_index.append(index)\n",
    "    return max_index, max_number"
   ]
  },
  {
   "cell_type": "code",
   "execution_count": 45,
   "metadata": {},
   "outputs": [
    {
     "data": {
      "text/plain": [
       "['莫莉和主人在家里共享美味的胡萝卜小吃，它们是莫莉最爱的。', '主人带着莫利去公园，莫莉在草地上奔跑，追逐彩色蝴蝶。']"
      ]
     },
     "execution_count": 45,
     "metadata": {},
     "output_type": "execute_result"
    }
   ],
   "source": [
    "def get_focused_env(act_place, summarized_prev_mem, current_state):\n",
    "    perceived = \"你现在正在：\"+scenario + \"\\n\" + \"你现在正在做的事是：\\n\"+current_state\n",
    "    perceived = [perceived]\n",
    "    reterived_mem_dic, _, _ = get_revelant_past_mem(perceived=perceived, prev_mem=summarized_prev_mem)\n",
    "    reterived_mem_idx = []\n",
    "    for k in reterived_mem_dic.keys():\n",
    "        for i in range(len(reterived_mem_dic[k])):\n",
    "            if reterived_mem_dic[k][i] not in reterived_mem_idx:\n",
    "                reterived_mem_idx.append(reterived_mem_dic[k][i])\n",
    "    focused_event = [summarized_prev_mem[reterived_mem_idx[i]] for i in range(len(reterived_mem_idx))]\n",
    "    return focused_event\n",
    "\n",
    "focused_env = get_focused_env(act_place, moli.memory_list, \"莫莉正在看电视\")\n",
    "focused_env"
   ]
  },
  {
   "cell_type": "code",
   "execution_count": 26,
   "metadata": {},
   "outputs": [],
   "source": [
    "chat_decide_prompt = pet_world_str + (\n",
    "\n",
    "    \"你现在是宠物世界的一员，你的名字是{role_name}。\\n\"\n",
    "    \"以下是你的角色描述:\\n\"\n",
    "    \"{role_description}\\n\\n\"\n",
    "    \"你当前的状态:\\n\"\n",
    "    \"{current_state}\\n\\n\"\n",
    "\n",
    "    \"根据指定场景:\\n\"\n",
    "    \"{scenario}\\n\"\n",
    "    \"以及过往相关经历：\\n\"\n",
    "    \"{focused_mem}\\n\"\n",
    "    \"做出行为决定：\"\n",
    "    \"选择 正常制定计划，返回：0\\n\"\n",
    "    \"选择 和宠物朋友{pet_frind}交谈，返回：1\\n\"\n",
    "    \"如果指定场景是 家，则不能选择和宠物朋友交谈\"\n",
    ")"
   ]
  },
  {
   "cell_type": "code",
   "execution_count": 36,
   "metadata": {},
   "outputs": [
    {
     "name": "stdout",
     "output_type": "stream",
     "text": [
      "==================================================\n",
      "response_text:我选择和宠物朋友bobo交谈，返回：1\n"
     ]
    },
    {
     "data": {
      "text/plain": [
       "'我选择和宠物朋友bobo交谈，返回：1'"
      ]
     },
     "execution_count": 36,
     "metadata": {},
     "output_type": "execute_result"
    }
   ],
   "source": [
    "def decide_chat_plan(pet, current_state, scenario, focused_mem, pet_frind):\n",
    "    \"\"\"\n",
    "    规划一天的行程\n",
    "    \"\"\"\n",
    "    prompt = chat_decide_prompt.format_map(\n",
    "        {'role_name': pet.name,\n",
    "            'role_description': pet.pet_info(),\n",
    "            'current_state':current_state,\n",
    "            'scenario':scenario,\n",
    "            'focused_mem':focused_mem,\n",
    "            'pet_frind':pet_frind\n",
    "            })\n",
    "    \"\"\"\n",
    "    print(\"-\" * 100)\n",
    "    print(f\"act place prompt:\\n{prompt}\")\n",
    "    print(\"-\" * 100)\"\"\"\n",
    "    message_list = [{\"role\": \"user\", \"content\": prompt}]\n",
    "    return get_gpt_result(engine_name=pet.engine_name, message_list=message_list)\n",
    "\n",
    "decide_chat_plan(moli, \"莫莉正在公园玩\", '公园', moli.memory_list[1], pet_frind='bobo')"
   ]
  },
  {
   "cell_type": "code",
   "execution_count": null,
   "metadata": {},
   "outputs": [],
   "source": [
    "chat_pets_prompt = (\n",
    "    \"现在有两只宠物，它们分别是：\\n\"\n",
    "    \"宠物1：{pet1_info}\\n\"\n",
    "    \"宠物1：{pet2_info}\\n\"\n",
    "    \"根据它们当前的状态：\\n\"\n",
    "    \"宠物1状态：{pet1_state}\\n\"\n",
    "    \"宠物1状态：{pet2_state}\\n\"\n",
    "    \"以及他们的过往相关记忆：\\n\"\n",
    "    \"宠物1状态：{pet1_foc_mem}\\n\"\n",
    "    \"宠物1状态：{pet2_foc_mem}\\n\"\n",
    "    \"以及他们所处的场景：{act_place}，展开一段对话\"\n",
    ")"
   ]
  },
  {
   "cell_type": "code",
   "execution_count": null,
   "metadata": {},
   "outputs": [],
   "source": [
    "def pets_chat(pet1, pet2, state1, state2, foc_mem1, foc_mem2, act_place):\n",
    "    \"\"\"\n",
    "    规划一天的行程\n",
    "    \"\"\"\n",
    "    prompt = config.chat_pets_prompt.format_map(\n",
    "        {'pet1_info': pet1.pet_info(),\n",
    "         'pet2_info': pet2.pet_info(),\n",
    "            'pet1_state': state1,\n",
    "            'pet2_state': state2,\n",
    "            'pet1_foc_mem':foc_mem1,\n",
    "            'pet2_foc_mem':foc_mem2,\n",
    "            'act_place':act_place\n",
    "            })\n",
    "    \"\"\"\n",
    "    print(\"-\" * 100)\n",
    "    print(f\"act place prompt:\\n{prompt}\")\n",
    "    print(\"-\" * 100)\"\"\"\n",
    "    message_list = [{\"role\": \"user\", \"content\": prompt}]\n",
    "    return get_gpt_result(engine_name=pet1.engine_name, message_list=message_list)\n",
    "\n",
    "pets_chat()"
   ]
  },
  {
   "cell_type": "markdown",
   "metadata": {},
   "source": [
    "## 整个流程"
   ]
  },
  {
   "cell_type": "code",
   "execution_count": 6,
   "metadata": {},
   "outputs": [],
   "source": [
    "def two_pets_act(epoch=5):\n",
    "    moli = PersonPet(name=\"莫莉\", gpt_version=\"gpt4\")\n",
    "    bobo = PersonPet(name=\"波波\", gpt_version=\"gpt4\")\n",
    "\n",
    "    add_prev_mem(moli, bobo)\n",
    "    current_moli = \"莫莉正在看电视\"\n",
    "    current_bobo = \"波波正在喝咖啡\"\n",
    "\n",
    "    act_place_moli = moli.decide_act_place(current_moli)\n",
    "    act_place_bobo = bobo.decide_act_place(current_bobo)\n",
    "\n",
    "    focused_env_moli = moli.get_focused_env(act_place_moli, current_moli)\n",
    "    focused_env_bobo = bobo.get_focused_env(act_place_bobo, current_bobo)\n",
    "\n",
    "    for i in range(epoch):\n",
    "        print('-'*100)\n",
    "        print(f\"第{i}轮\")\n",
    "        chat_deci_moli = moli.decide_chat_plan(current_state=current_moli, scenario=act_place_moli, focused_mem=focused_env_moli, pet_friend='波波', friend_current=current_bobo)\n",
    "        chat_deci_bobo = moli.decide_chat_plan(current_state=current_bobo, scenario=act_place_bobo, focused_mem=focused_env_bobo, pet_friend='莫莉', friend_current=current_moli)\n",
    "        print('-'*100)\n",
    "        print('moli:' + chat_deci_moli + '                bobo' + chat_deci_bobo)\n",
    "        if '1' in chat_deci_moli and '1' in chat_deci_bobo:\n",
    "            chat_content = pets_chat(pet1=moli, pet2=bobo, state1=current_moli, state2=current_bobo, foc_mem1=focused_env_moli, foc_mem2=focused_env_bobo, act_place=act_place_moli)\n",
    "            print('-'*100)\n",
    "            print(\"+++++++++++++++++++      开始聊天    +++++++++++++++++++++++++++++++\")\n",
    "            print(chat_content)\n",
    "            summarized_chat = get_response(get_summarized_chat.format_map({'chat':chat_content}))\n",
    "            moli.memory_list.append(summarized_chat)\n",
    "            bobo.memory_list.append(summarized_chat)\n",
    "            current_moli = \"刚刚结束一段关于：\\n\" + summarized_chat + \"\\n 的对话\"\n",
    "            current_bobo = \"刚刚结束一段关于：\\n\" + summarized_chat + \"\\n 的对话\"\n",
    "            ## 更新状态\n",
    "            act_place_moli = moli.decide_act_place(current_moli)\n",
    "            act_place_bobo = bobo.decide_act_place(current_bobo)\n",
    "            focused_env_moli = moli.get_focused_env(act_place_moli, current_moli)\n",
    "            focused_env_bobo = bobo.get_focused_env(act_place_bobo, current_bobo)\n",
    "        else:\n",
    "            plan_moli = moli.act_plan(act_place=act_place_moli ,current_state=current_moli)\n",
    "            plan_bobo = bobo.act_plan(act_place=act_place_bobo ,current_state=current_bobo)\n",
    "            print('-'*100)\n",
    "            print(\"+++++++++++++++++++      制定的计划    +++++++++++++++++++++++++++++++\")\n",
    "            print(plan_moli)\n",
    "            print(plan_bobo)\n",
    "            current_moli = moli.new_state(act_place=act_place_moli, plan=plan_moli)\n",
    "            current_bobo = bobo.new_state(act_place=act_place_bobo, plan=plan_bobo)\n",
    "            print(\"+++++++++++++++++++      当前的状态    +++++++++++++++++++++++++++++++\")\n",
    "            print(current_moli)\n",
    "            print(current_bobo)\n",
    "            moli.memory_list.append(plan_moli)\n",
    "            bobo.memory_list.append(plan_bobo)\n",
    "            act_place_moli = moli.decide_act_place(current_moli)\n",
    "            act_place_bobo = bobo.decide_act_place(current_bobo)\n",
    "            focused_env_moli = moli.get_focused_env(act_place_moli, current_moli)\n",
    "            focused_env_bobo = bobo.get_focused_env(act_place_bobo, current_bobo)\n"
   ]
  },
  {
   "cell_type": "code",
   "execution_count": 7,
   "metadata": {},
   "outputs": [
    {
     "name": "stdout",
     "output_type": "stream",
     "text": [
      "set gpt engine_name to:gpt4-16k\n",
      "set gpt engine_name to:gpt4-16k\n",
      "----------------------------------------------------------------------------------------------------\n",
      "第0轮\n",
      "----------------------------------------------------------------------------------------------------\n",
      "moli:根据当前的情况，莫莉正在看电视，而波波在喝咖啡。同时，场景是公园，莫莉和波波都在这个场景下。因此，莫莉有两个选择：一是继续看电视，二是去找波波交谈。考虑到莫莉的性格和过往经历，她是一个喜欢社交和新鲜事物的小家伙，她和波波是好朋友，且都在公园里。因此，莫莉更可能会选择去和波波交谈，所以返回 1。                bobo1\n",
      "----------------------------------------------------------------------------------------------------\n",
      "+++++++++++++++++++      开始聊天    +++++++++++++++++++++++++++++++\n",
      "莫莉（看着电视）: \"嘿，波波，你看那个小女孩正在公园里玩耍呢，我好想去和她玩。\"\n",
      "\n",
      "波波（慢悠悠地喝着咖啡）: \"莫莉，你知道我们不能离开电视前的。我们正在看的节目很有趣呢，是关于草食动物的生活习性的。\"\n",
      "\n",
      "莫莉: \"是的，我知道，但我只是觉得这个公园看起来很有趣。那个小女孩也许会喜欢和我们一起玩。\"\n",
      "\n",
      "波波（笑了笑）: \"嗯，可能吧。但是我们最好还是待在这里，等节目结束后，我们可以去公园散步，怎么样？\"\n",
      "\n",
      "莫莉（笑了）: \"听起来很好，我期待着那个时刻。\"\n",
      "----------------------------------------------------------------------------------------------------\n",
      "第1轮\n",
      "----------------------------------------------------------------------------------------------------\n",
      "moli:1                bobo0\n",
      "----------------------------------------------------------------------------------------------------\n",
      "+++++++++++++++++++      制定的计划    +++++++++++++++++++++++++++++++\n",
      "我的下一步计划是等待电视节目结束，然后和波波一起去公园散步。我想看看那个小女孩是否还在公园里，如果她在的话，我会尝试和她交朋友，看看她是否愿意和我们一起玩。我也期待在公园里发现新的食物和玩具，或许还会遇到其他的朋友。\n",
      "波波决定等待电视节目结束，然后带着莫莉去公园看看那个小女孩是否还在那里。如果小女孩还在，波波计划用他的魅力和友善的性格去和她交朋友，并邀请她和他们一起玩。如果小女孩已经离开，波波计划陪莫莉在公园里玩耍，享受一段美好的时光。\n",
      "+++++++++++++++++++      当前的状态    +++++++++++++++++++++++++++++++\n",
      "我现在正在家中的小窝里，开心地看着电视。我耳朵竖起，尾巴摇摇，等待着节目结束，准备和我的好朋友波波一起去公园。我满怀期待地想着公园里的一切，特别是我最喜欢的胡萝卜。我期待着和那个小女孩见面，也许我们可以成为朋友。我也期待着在公园里找到新的食物和玩具，或许还会遇到新的朋友。我现在的状态非常兴奋和期待。\n",
      "我现在正在安静地看着电视，一边等待节目结束，一边期待着和莫莉一起去公园的旅行。我心里充满了期待，希望能在公园里再次遇到那个小女孩。我已经想好了如何用我的魅力和友好的性格去和她交朋友。我也想象着如果小女孩已经离开，我和莫莉在公园里玩耍的场景，那会是一段非常美好的时光。\n",
      "----------------------------------------------------------------------------------------------------\n",
      "第2轮\n",
      "----------------------------------------------------------------------------------------------------\n",
      "moli:1                bobo1\n",
      "----------------------------------------------------------------------------------------------------\n",
      "+++++++++++++++++++      开始聊天    +++++++++++++++++++++++++++++++\n",
      "莫莉（荷兰兔）: 嗨，波波，你看完电视了吗？我已经迫不及待想要去公园了！\n",
      "\n",
      "波波（大象）: 哈哈，莫莉，我知道你很期待。我也一样，等我再看完这个节目，我们就可以一起去公园了。\n",
      "\n",
      "莫莉（荷兰兔）: 你觉得公园里那个小女孩会在吗？我好想和她一起玩。\n",
      "\n",
      "波波（大象）: 我也希望她在，她总是给我们带来很多好玩的东西。如果她不在，我们也可以找一些新的朋友和新的玩具玩。\n",
      "\n",
      "莫莉（荷兰兔）: 对啊，我听说公园里的胡萝卜特别好吃，我真希望能找到一些。\n",
      "\n",
      "波波（大象）: 哈哈，我知道你对胡萝卜的热爱，如果我看到了，一定会帮你找一些的。\n",
      "\n",
      "莫莉（荷兰兔）: 谢谢你，波波，你真是个好朋友！\n",
      "\n",
      "波波（大象）: 你也是，莫莉，让我们一起享受这个美好的一天吧！\n",
      "----------------------------------------------------------------------------------------------------\n",
      "第3轮\n",
      "----------------------------------------------------------------------------------------------------\n",
      "moli:0                bobo1\n",
      "----------------------------------------------------------------------------------------------------\n",
      "+++++++++++++++++++      制定的计划    +++++++++++++++++++++++++++++++\n",
      "下一步计划：莫莉决定和波波一起去公园。她打算在公园里找一些新鲜的胡萝卜，并且希望能和新的朋友一起玩。同时，她也希望能找到一些新的玩具，以满足她咬咬咬的欲望。对于波波承诺的帮助，她非常期待。\n",
      "波波决定带着莫莉去公园，他们一起寻找胡萝卜，同时也期待遇见新的朋友和玩新的游戏。波波还想找一个大浴缸，可以在水里玩耍。他们也希望在公园里找到一块空地，可以在那里用波波的小鼻子和脚的小球创作抽象艺术作品。\n",
      "+++++++++++++++++++      当前的状态    +++++++++++++++++++++++++++++++\n",
      "莫莉现在正在公园里跳来跳去，她的大眼睛里闪烁着好奇的光芒。她正在边跑边找寻新鲜的胡萝卜，同时也在观察周围是否有新的小朋友或者新的玩具。她的好朋友波波正在旁边陪伴她，两个小家伙一起探索，玩的非常开心。\n",
      "波波现在和莫莉正在公园里寻找胡萝卜，他们的脸上洋溢着期待新朋友和新游戏的兴奋表情。波波的眼睛不断在公园的各个角落里游走，寻找着可能的大浴缸，期待着能在水里尽情玩耍。他们也在寻找一块合适的空地，希望在那里用波波的小鼻子和脚的小球创作出属于他们的抽象艺术作品。\n",
      "----------------------------------------------------------------------------------------------------\n",
      "第4轮\n",
      "----------------------------------------------------------------------------------------------------\n",
      "moli:1                bobo0\n",
      "----------------------------------------------------------------------------------------------------\n",
      "+++++++++++++++++++      制定的计划    +++++++++++++++++++++++++++++++\n",
      "莫莉打算继续在公园里探索，寻找新鲜的胡萝卜。她希望能找到一些新的小朋友一起玩耍，或者找到一些新的玩具。同时，她也想和波波一起玩一些新的游戏，比如追逐游戏或者藏猫猫。总的来说，莫莉打算充分利用她在公园的时间，尽情的玩耍和探索。\n",
      "波波决定先找一块空地，开始他的艺术创作。他想用他的小鼻子和脚的小球在地上绘制一个大大的胡萝卜图案，以此来吸引其他公园里的宠物朋友们。在绘画的过程中，他将会充分展现他的创造力和独特的绘画技巧。同时，莫莉会在一旁帮助波波寻找需要的颜色和材料，一起完成这个有趣的任务。\n",
      "+++++++++++++++++++      当前的状态    +++++++++++++++++++++++++++++++\n",
      "状态: 莫莉正在公园的草坪上快乐地跳跃，她的眼睛在四处寻找可能隐藏的胡萝卜。她的耳朵竖立起来，聆听着周围的声音，希望能听到一些新朋友的脚步声。她的尾巴随着她的跳跃而摆动，显示出她的开心和兴奋。她时不时地回头看看波波，希望他能跟上她的步伐。\n",
      "现在，波波正在公园的一块空地上绘制他的大大的胡萝卜图案。他用他的小鼻子和脚的小球在地上滚动，一边吹出颜色的泡泡一边进行创作。在他身边，莫莉正在帮他找寻需要的颜色和材料。波波看起来非常快乐，他正在充分展现他的创造力和独特的绘画技巧。他期待着他的作品能吸引其他公园里的宠物朋友们来参观。\n"
     ]
    }
   ],
   "source": [
    "two_pets_act()"
   ]
  }
 ],
 "metadata": {
  "kernelspec": {
   "display_name": "base",
   "language": "python",
   "name": "python3"
  },
  "language_info": {
   "codemirror_mode": {
    "name": "ipython",
    "version": 3
   },
   "file_extension": ".py",
   "mimetype": "text/x-python",
   "name": "python",
   "nbconvert_exporter": "python",
   "pygments_lexer": "ipython3",
   "version": "3.11.5"
  }
 },
 "nbformat": 4,
 "nbformat_minor": 2
}
